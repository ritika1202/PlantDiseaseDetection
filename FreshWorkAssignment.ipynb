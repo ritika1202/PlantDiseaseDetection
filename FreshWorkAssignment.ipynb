{
  "nbformat": 4,
  "nbformat_minor": 0,
  "metadata": {
    "kernelspec": {
      "display_name": "Python 3",
      "language": "python",
      "name": "python3"
    },
    "language_info": {
      "codemirror_mode": {
        "name": "ipython",
        "version": 3
      },
      "file_extension": ".py",
      "mimetype": "text/x-python",
      "name": "python",
      "nbconvert_exporter": "python",
      "pygments_lexer": "ipython3",
      "version": "3.8.7"
    },
    "colab": {
      "name": "FreshWorkAssignment.ipynb",
      "provenance": [],
      "include_colab_link": true
    }
  },
  "cells": [
    {
      "cell_type": "markdown",
      "metadata": {
        "id": "view-in-github",
        "colab_type": "text"
      },
      "source": [
        "<a href=\"https://colab.research.google.com/github/ritika1202/PlantDiseaseDetection/blob/master/FreshWorkAssignment.ipynb\" target=\"_parent\"><img src=\"https://colab.research.google.com/assets/colab-badge.svg\" alt=\"Open In Colab\"/></a>"
      ]
    },
    {
      "cell_type": "code",
      "metadata": {
        "id": "V5akgoaoiFIh"
      },
      "source": [
        "  \n",
        "import threading \n",
        "#this is for python 3.0 and above. use import thread for python2.0 versions\n",
        "from threading import*\n",
        "import time\n",
        "\n",
        "d={} #'d' is the dictionary in which we store data\n",
        "\n",
        "#for create operation \n",
        "#use syntax \"create(key_name,value,timeout_value)\" timeout is optional you can continue by passing two arguments without timeout\n",
        "\n",
        "def create(key,value,timeout=0):\n",
        "    if key in d:\n",
        "        print(\"error: this key already exists\") #error message1\n",
        "    else:\n",
        "        if(key.isalpha()):\n",
        "            if len(d)<(1024*1024*1024) and value<=(16*1024*1024): #constraints for file size less than 1GB and Jasonobject value less than 16KB \n",
        "                if timeout==0:\n",
        "                    l=[value,timeout]\n",
        "                else:\n",
        "                    l=[value,time.time()+timeout]\n",
        "                if len(key)<=32: #constraints for input key_name capped at 32chars\n",
        "                    d[key]=l\n",
        "            else:\n",
        "                print(\"error: Memory limit exceeded!! \")#error message2\n",
        "        else:\n",
        "            print(\"error: Invalind key_name!! key_name must contain only alphabets and no special characters or numbers\")#error message3\n",
        "\n",
        "#for read operation\n",
        "#use syntax \"read(key_name)\"\n",
        "            \n",
        "def read(key):\n",
        "    if key not in d:\n",
        "        print(\"error: given key does not exist in database. Please enter a valid key\") #error message4\n",
        "    else:\n",
        "        b=d[key]\n",
        "        if b[1]!=0:\n",
        "            if time.time()<b[1]: #comparing the present time with expiry time\n",
        "                stri=str(key)+\":\"+str(b[0]) #to return the value in the format of JasonObject i.e.,\"key_name:value\"\n",
        "                return stri\n",
        "            else:\n",
        "                print(\"error: time-to-live of\",key,\"has expired\") #error message5\n",
        "        else:\n",
        "            stri=str(key)+\":\"+str(b[0])\n",
        "            return stri\n",
        "\n",
        "#for delete operation\n",
        "#use syntax \"delete(key_name)\"\n",
        "\n",
        "def delete(key):\n",
        "    if key not in d:\n",
        "        print(\"error: given key does not exist in database. Please enter a valid key\") #error message4\n",
        "    else:\n",
        "        b=d[key]\n",
        "        if b[1]!=0:\n",
        "            if time.time()<b[1]: #comparing the current time with expiry time\n",
        "                del d[key]\n",
        "                print(\"key is successfully deleted\")\n",
        "            else:\n",
        "                print(\"error: time-to-live of\",key,\"has expired\") #error message5\n",
        "        else:\n",
        "            del d[key]\n",
        "            print(\"key is successfully deleted\")\n",
        "\n",
        "#I have an additional operation of modify in order to change the value of key before its expiry time if provided\n",
        "\n",
        "#for modify operation \n",
        "#use syntax \"modify(key_name,new_value)\"\n",
        "\n",
        "def modify(key,value):\n",
        "    b=d[key]\n",
        "    if b[1]!=0:\n",
        "        if time.time()<b[1]:\n",
        "            if key not in d:\n",
        "                print(\"error: given key does not exist in database. Please enter a valid key\") #error message6\n",
        "            else:\n",
        "                l=[]\n",
        "                l.append(value)\n",
        "                l.append(b[1])\n",
        "                d[key]=l\n",
        "        else:\n",
        "            print(\"error: time-to-live of\",key,\"has expired\") #error message5\n",
        "    else:\n",
        "        if key not in d:\n",
        "            print(\"error: given key does not exist in database. Please enter a valid key\") #error message6\n",
        "        else:\n",
        "            l=[]\n",
        "            l.append(value)\n",
        "            l.append(b[1])\n",
        "            d[key]=l"
      ],
      "execution_count": null,
      "outputs": []
    },
    {
      "cell_type": "code",
      "metadata": {
        "id": "J-YuGE7iiFI3"
      },
      "source": [
        "create(\"student\",25)\n",
        "#to create a key with key_name,value given and with no time-to-live property"
      ],
      "execution_count": null,
      "outputs": []
    },
    {
      "cell_type": "code",
      "metadata": {
        "id": "_8ok6NM8iFI5"
      },
      "source": [
        "create(\"src\",70,3600) "
      ],
      "execution_count": null,
      "outputs": []
    },
    {
      "cell_type": "code",
      "metadata": {
        "colab": {
          "base_uri": "https://localhost:8080/",
          "height": 35
        },
        "id": "UzeWA2smiFI6",
        "outputId": "0790d98c-8c78-449a-f584-21f2c2420994"
      },
      "source": [
        "read(\"student\")"
      ],
      "execution_count": null,
      "outputs": [
        {
          "output_type": "execute_result",
          "data": {
            "application/vnd.google.colaboratory.intrinsic+json": {
              "type": "string"
            },
            "text/plain": [
              "'student:25'"
            ]
          },
          "metadata": {
            "tags": []
          },
          "execution_count": 4
        }
      ]
    },
    {
      "cell_type": "code",
      "metadata": {
        "colab": {
          "base_uri": "https://localhost:8080/",
          "height": 35
        },
        "id": "K2gEQaOjiFI8",
        "outputId": "50fa8e46-93ef-4463-e55b-153fa108b9ae"
      },
      "source": [
        "read(\"src\")\n",
        "#it returns the value of the respective key in Jasonobject format if the TIME-TO-LIVE IS NOT EXPIRED else it returns an ERROR\n",
        "\n",
        "\n"
      ],
      "execution_count": null,
      "outputs": [
        {
          "output_type": "execute_result",
          "data": {
            "application/vnd.google.colaboratory.intrinsic+json": {
              "type": "string"
            },
            "text/plain": [
              "'src:70'"
            ]
          },
          "metadata": {
            "tags": []
          },
          "execution_count": 6
        }
      ]
    },
    {
      "cell_type": "code",
      "metadata": {
        "colab": {
          "base_uri": "https://localhost:8080/"
        },
        "id": "8TVbfjyDiFI9",
        "outputId": "7a9c09bf-058f-4c83-87e4-848cadad6b20"
      },
      "source": [
        "create(\"student\",50)\n",
        "#it returns an ERROR since the key_name already exists in the database\n",
        "#To overcome this error \n",
        "#either use modify operation to change the value of a key\n",
        "#or use delete operation and recreate it\n",
        "\n",
        "\n"
      ],
      "execution_count": null,
      "outputs": [
        {
          "output_type": "stream",
          "text": [
            "error: this key already exists\n"
          ],
          "name": "stdout"
        }
      ]
    },
    {
      "cell_type": "code",
      "metadata": {
        "id": "EWhGtN2AiFI9"
      },
      "source": [
        "modify(\"student\",55)\n",
        "#it replaces the initial value of the respective key with new value \n",
        "\n",
        " \n"
      ],
      "execution_count": null,
      "outputs": []
    },
    {
      "cell_type": "code",
      "metadata": {
        "colab": {
          "base_uri": "https://localhost:8080/"
        },
        "id": "tjbuVcmGiFI-",
        "outputId": "d7dd950b-3543-48a9-d55d-3bf9055217b9"
      },
      "source": [
        "delete(\"student\")\n",
        "#it deletes the respective key and its value from the database(memory is also freed)"
      ],
      "execution_count": null,
      "outputs": [
        {
          "output_type": "stream",
          "text": [
            "key is successfully deleted\n"
          ],
          "name": "stdout"
        }
      ]
    },
    {
      "cell_type": "code",
      "metadata": {
        "id": "eHI3PZeViFI-",
        "colab": {
          "base_uri": "https://localhost:8080/"
        },
        "outputId": "8ee9deea-7863-4d87-f0b0-9da27bef0dc5"
      },
      "source": [
        "key_name=\"Student\";\n",
        "value=55;\n",
        "t1=Thread(target=(create or read or delete),args=(key_name,value,timeout)) #as per the operation\n",
        "t1.start()\n",
        "time.sleep(0.005)\n",
        "t2=Thread(target=(create or read or delete),args=(key_name,value,timeout)) #as per the operation\n",
        "t2.start()\n",
        "time.sleep(0.005)"
      ],
      "execution_count": 30,
      "outputs": [
        {
          "output_type": "stream",
          "text": [
            "error: this key already exists\n",
            "error: this key already exists\n"
          ],
          "name": "stdout"
        }
      ]
    }
  ]
}